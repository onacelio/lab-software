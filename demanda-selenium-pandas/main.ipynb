{
 "cells": [
  {
   "cell_type": "code",
   "execution_count": 1,
   "metadata": {},
   "outputs": [],
   "source": [
    "import pandas as pd\n",
    "from selenium import webdriver\n",
    "from webdriver_manager.firefox import GeckoDriverManager\n",
    "from selenium.webdriver.common.by import By\n",
    "import time"
   ]
  },
  {
   "cell_type": "code",
   "execution_count": 2,
   "metadata": {},
   "outputs": [
    {
     "name": "stderr",
     "output_type": "stream",
     "text": [
      "[WDM] - Downloading: 19.2kB [00:00, ?B/s]                       \n",
      "[WDM] - Downloading: 19.2kB [00:00, 9.80MB/s]                   \n",
      "[WDM] - Downloading: 100%|██████████| 1.59M/1.59M [00:01<00:00, 902kB/s] \n",
      "C:\\Users\\nd705\\AppData\\Local\\Temp\\ipykernel_10232\\103404905.py:2: DeprecationWarning: executable_path has been deprecated, please pass in a Service object\n",
      "  navegador = webdriver.Firefox(executable_path=GeckoDriverManager().install())\n"
     ]
    }
   ],
   "source": [
    "data = pd.read_excel(\"./NotasEmitir.xlsx\")\n",
    "navegador = webdriver.Firefox(executable_path=GeckoDriverManager().install())"
   ]
  },
  {
   "cell_type": "code",
   "execution_count": null,
   "metadata": {},
   "outputs": [],
   "source": [
    "estados = [\"AC\", \"AL\", \"AM\", \"AP\", \"BA\", \"CE\", \"DF\", \"ES\", \"GO\", \"MA\", \"MG\", \"MS\", \"MT\", \"PA\", \"PB\", \"PE\", \"PI\", \"PR\", \"RJ\", \"RN\", \"RO\", \"RR\", \"RS\", \"SC\", \"SE\", \"SP\", \"TO\"]\n",
    "\n",
    "\n",
    "for i in range(len(data)):\n",
    "    data_line = data.iloc[i]\n",
    "\n",
    "    navegador.get(\"https://docs.google.com/forms/d/e/1FAIpQLSf-Sv3iqoTkSwvzxetDC6-_FZdrvppOmgkCQ3vSAfHYC2Rpag/viewform\")\n",
    "\n",
    "    time.sleep(3)\n",
    "\n",
    "    #NOME/RAZÃO SOCIAL\n",
    "    navegador.find_element(By.XPATH, '/html/body/div/div[2]/form/div[2]/div/div[2]/div[1]/div/div/div[2]/div/div[1]/div/div[1]/input').send_keys(data_line['Cliente'])\n",
    "\n",
    "    #ENDEREÇO\n",
    "    navegador.find_element(By.XPATH, '/html/body/div/div[2]/form/div[2]/div/div[2]/div[2]/div/div/div[2]/div/div[1]/div[2]/textarea').send_keys(data_line['Endereço'])\n",
    "\n",
    "    #BAIRRO\n",
    "    navegador.find_element(By.XPATH, '/html/body/div/div[2]/form/div[2]/div/div[2]/div[3]/div/div/div[2]/div/div[1]/div/div[1]/input').send_keys(data_line['Bairro'])\n",
    "\n",
    "    #MUNICIPIO\n",
    "    navegador.find_element(By.XPATH, '/html/body/div/div[2]/form/div[2]/div/div[2]/div[4]/div/div/div[2]/div/div[1]/div[2]/textarea').send_keys(data_line['Municipio'])\n",
    "\n",
    "    #CEP\n",
    "    navegador.find_element(By.XPATH, '/html/body/div/div[2]/form/div[2]/div/div[2]/div[5]/div/div/div[2]/div/div[1]/div/div[1]/input').send_keys(str(data_line['CEP']))\n",
    "\n",
    "    #UF\n",
    "    navegador.find_element(By.XPATH, '/html/body/div/div[2]/form/div[2]/div/div[2]/div[6]/div/div/div[2]/div/div[1]/div[1]').click()\n",
    "    time.sleep(1)\n",
    "\n",
    "    for uf in estados:\n",
    "        if uf == data_line['UF']:\n",
    "            navegador.find_element(By.XPATH, f'/html/body/div/div[2]/form/div[2]/div/div[2]/div[6]/div/div/div[2]/div/div[2]/div[{estados.index(uf) + 3}]/span').click()\n",
    "            break\n",
    "\n",
    "    #CPF/CPJ\n",
    "    navegador.find_element(By.XPATH, '/html/body/div/div[2]/form/div[2]/div/div[2]/div[7]/div/div/div[2]/div/div[1]/div/div[1]/input').send_keys(str(data_line['CPF/CNPJ']))\n",
    "\n",
    "    #Inscrição estadual\n",
    "    navegador.find_element(By.XPATH, '/html/body/div/div[2]/form/div[2]/div/div[2]/div[8]/div/div/div[2]/div/div[1]/div/div[1]/input').send_keys(str(data_line['Inscricao Estadual']))\n",
    "\n",
    "    time.sleep(1)\n",
    "    #Clique próxima página\n",
    "    navegador.find_element(By.XPATH, '/html/body/div/div[2]/form/div[2]/div/div[3]/div[1]/div[1]/div/span').click()\n",
    "\n",
    "    time.sleep(2)\n",
    "    #Descrição do produto/serviço\n",
    "    navegador.find_element(By.XPATH, '/html/body/div/div[2]/form/div[2]/div/div[2]/div[2]/div/div/div[2]/div/div[1]/div[2]/textarea').send_keys(data_line[\"Descrição\"])\n",
    "\n",
    "    #Quantidade\n",
    "    navegador.find_element(By.XPATH, '/html/body/div/div[2]/form/div[2]/div/div[2]/div[3]/div/div/div[2]/div/div[1]/div/div[1]/input').send_keys(str(data_line[\"Quantidade\"]))\n",
    "\n",
    "    #Valor Unitario\n",
    "    navegador.find_element(By.XPATH, '/html/body/div/div[2]/form/div[2]/div/div[2]/div[4]/div/div/div[2]/div/div[1]/div/div[1]/input').send_keys(str(data_line[\"Valor Unitario\"]))\n",
    "\n",
    "    #Valor total\n",
    "    navegador.find_element(By.XPATH, '/html/body/div/div[2]/form/div[2]/div/div[2]/div[5]/div/div/div[2]/div/div[1]/div/div[1]/input').send_keys(str(data_line[\"Valor Total\"]))\n",
    "\n",
    "    #Clique para enviar\n",
    "    navegador.find_element(By.XPATH, '/html/body/div/div[2]/form/div[2]/div/div[3]/div[1]/div[1]/div[2]/span/span').click()\n",
    "\n",
    "    time.sleep(1)"
   ]
  },
  {
   "cell_type": "code",
   "execution_count": null,
   "metadata": {},
   "outputs": [],
   "source": []
  }
 ],
 "metadata": {
  "kernelspec": {
   "display_name": "Python 3",
   "language": "python",
   "name": "python3"
  },
  "language_info": {
   "codemirror_mode": {
    "name": "ipython",
    "version": 3
   },
   "file_extension": ".py",
   "mimetype": "text/x-python",
   "name": "python",
   "nbconvert_exporter": "python",
   "pygments_lexer": "ipython3",
   "version": "3.10.11"
  },
  "orig_nbformat": 4
 },
 "nbformat": 4,
 "nbformat_minor": 2
}
